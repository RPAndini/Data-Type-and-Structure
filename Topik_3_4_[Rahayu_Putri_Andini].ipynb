{
  "nbformat": 4,
  "nbformat_minor": 0,
  "metadata": {
    "colab": {
      "provenance": []
    },
    "kernelspec": {
      "name": "python3",
      "display_name": "Python 3"
    },
    "language_info": {
      "name": "python"
    }
  },
  "cells": [
    {
      "cell_type": "markdown",
      "source": [
        "##**Topic 3 - Python Structure & Data Type Assignment**\n"
      ],
      "metadata": {
        "id": "f6LjKU50-tD8"
      }
    },
    {
      "cell_type": "markdown",
      "source": [
        "# **Data Type Declaration**"
      ],
      "metadata": {
        "id": "MPuR878HZEbx"
      }
    },
    {
      "cell_type": "markdown",
      "source": [
        "1. > **Create an empty variable** (Points : 5)"
      ],
      "metadata": {
        "id": "GyS5I54D-3K9"
      }
    },
    {
      "cell_type": "markdown",
      "source": [
        "Akan dibuat variabel kosong dengan nama variabelnya adalah `nama` sebagai berikut:"
      ],
      "metadata": {
        "id": "T-gO4dlU7SxB"
      }
    },
    {
      "cell_type": "code",
      "source": [
        "#variabel kosong\n",
        "#Code goes here\n",
        "nama=' '\n",
        "print(nama)"
      ],
      "metadata": {
        "id": "jehesBY-_aKL",
        "colab": {
          "base_uri": "https://localhost:8080/"
        },
        "outputId": "869c5c01-94cd-44cc-9c69-8fed6f999a63"
      },
      "execution_count": null,
      "outputs": [
        {
          "output_type": "stream",
          "name": "stdout",
          "text": [
            " \n"
          ]
        }
      ]
    },
    {
      "cell_type": "markdown",
      "source": [
        "2. > **Create a variable containing your name** (Points : 5)"
      ],
      "metadata": {
        "id": "6zCz3qZ8_bu2"
      }
    },
    {
      "cell_type": "markdown",
      "source": [
        "Akan dibuat variabel nama yang berisi nama lengkap saya yakni `Rahayu Putri Andini`, karena Rahayu Putri Andini merupakan bentuk string maka digunakan tanda \"...\" atau '...' sebagai berikut:"
      ],
      "metadata": {
        "id": "3VC-rKbd7vhD"
      }
    },
    {
      "cell_type": "code",
      "source": [
        "#variabel yang berisi nama\n",
        "#Code goes here\n",
        "nama=\"Rahayu Putri Andini\"\n",
        "print(nama)"
      ],
      "metadata": {
        "id": "1wT8jnI6_f-U",
        "colab": {
          "base_uri": "https://localhost:8080/"
        },
        "outputId": "04b40c41-64ff-4905-aff3-daaf92bf3487"
      },
      "execution_count": null,
      "outputs": [
        {
          "output_type": "stream",
          "name": "stdout",
          "text": [
            "Rahayu Putri Andini\n"
          ]
        }
      ]
    },
    {
      "cell_type": "markdown",
      "source": [
        "3. > **Create a list of 5 items you can find in the classroom (Points : 5)**"
      ],
      "metadata": {
        "id": "ApatE8m__2Ud"
      }
    },
    {
      "cell_type": "markdown",
      "source": [
        "Untuk membuat list dari 5 item, yang pertama disini nama variabel yang digunakan yaitu `items` dan list 5 benda yang dapat ditemukan di kelas yaitu `komputer, white board, proyektor, kursi, dan meja`. Setiap item diberi tanda '...' atau \"...\" karena berbentuk string dan antar item dipisahkan dengan koma (,) lalu semua item berada didalam [...]"
      ],
      "metadata": {
        "id": "PSQ3_I3C_6wn"
      }
    },
    {
      "cell_type": "code",
      "source": [
        "#List yang berisi 5 items yang dapat ditemukan di ruang kelas\n",
        "#Code goes here\n",
        "items=['Komputer','White Board','Proyektor','Kursi','Meja']\n",
        "print(items)"
      ],
      "metadata": {
        "id": "-Q0Ynqx1_6hF",
        "colab": {
          "base_uri": "https://localhost:8080/"
        },
        "outputId": "43d60aae-9585-4f6d-d6a0-c011c4384fd7"
      },
      "execution_count": null,
      "outputs": [
        {
          "output_type": "stream",
          "name": "stdout",
          "text": [
            "['Komputer', 'White Board', 'Proyektor', 'Kursi', 'Meja']\n"
          ]
        }
      ]
    },
    {
      "cell_type": "markdown",
      "source": [
        "4. > **Create a dictionary containing 2 keys and value (Points : 5)**"
      ],
      "metadata": {
        "id": "6FwMmy_9AS5N"
      }
    },
    {
      "cell_type": "markdown",
      "source": [
        "Dibuat sebuah dictionary yang terdiri atas 2 keys, dimana misal dictionary yang dibuat yaitu `smartphone` dengan keys `'names'` dan `'brand'`. Value pada key 'names' yaitu `['Dini', 'Putri','Hilmi', 'Dzakiyyah','Tisya']` sedangkan value pada key brand yaitu `[\"Oppo\", \"Iphone\",\"Xiaomi\",\"Vivo\",\"Samsung\"]` yang artinya misalkan seseorang bernama Dini memiliki smartphone dengan merek/brand Oppo dan seterusnya. Karena baik nama keys maupun value merupakan string maka diapit oleh '...' atau \"...\" dan setiap key maupun value dipisahkan dengan tanda koma (,)"
      ],
      "metadata": {
        "id": "r8pXKN9PBN5D"
      }
    },
    {
      "cell_type": "code",
      "source": [
        "#Code goes here\n",
        "smartphone = {\n",
        "    'names':['Dini','Putri','Hilmi','Dzakiyyah','Tisya'],\n",
        "    'brand':[\"Oppo\", \"Iphone\",\"Xiaomi\",\"Vivo\",\"Samsung\"],\n",
        "}\n",
        "\n",
        "print(smartphone)"
      ],
      "metadata": {
        "id": "xLc2AlhtASOm",
        "colab": {
          "base_uri": "https://localhost:8080/"
        },
        "outputId": "cc50b0c6-5243-415b-8cbc-047f7dcfa6a7"
      },
      "execution_count": null,
      "outputs": [
        {
          "output_type": "stream",
          "name": "stdout",
          "text": [
            "{'names': ['Dini', 'Putri', 'Hilmi', 'Dzakiyyah', 'Tisya'], 'brand': ['Oppo', 'Iphone', 'Xiaomi', 'Vivo', 'Samsung']}\n"
          ]
        }
      ]
    },
    {
      "cell_type": "code",
      "source": [
        "smartphone"
      ],
      "metadata": {
        "colab": {
          "base_uri": "https://localhost:8080/"
        },
        "id": "9Z-4j9ml1f6S",
        "outputId": "5314cd50-d5fa-492f-8bd5-e63d16f97e7b"
      },
      "execution_count": null,
      "outputs": [
        {
          "output_type": "execute_result",
          "data": {
            "text/plain": [
              "{'names': ['Dini', 'Putri', 'Hilmi', 'Dzakiyyah', 'Tisya'],\n",
              " 'brand': ['Oppo', 'Iphone', 'Xiaomi', 'Vivo', 'Samsung']}"
            ]
          },
          "metadata": {},
          "execution_count": 53
        }
      ]
    },
    {
      "cell_type": "markdown",
      "source": [
        "# **Basic Data Operation** :"
      ],
      "metadata": {
        "id": "6AqPfAS7a1Oi"
      }
    },
    {
      "cell_type": "markdown",
      "source": [
        "You sold 20 pieces of electronics at the price of 12000. The customer gets a total discount of 10%.\n",
        "\n",
        "Below are those variables:\n",
        "\n",
        "1.   price=12000\n",
        "2.   quantity_sold=20\n",
        "3.   discount=10%\n",
        "\n",
        "\n",
        "Using Python code, write the code the find the **total money that the customer to pay**. (Points : 15)"
      ],
      "metadata": {
        "id": "-ZZF1cXlbqkJ"
      }
    },
    {
      "cell_type": "markdown",
      "source": [
        "- **Penjelasan**:\n",
        "Untuk menentukan jumlah total uang yang harus dibayarkan oleh customer dapat menggunakan rumus:\n",
        "Pay = total harga yang seharusnya dibayarkan *(dari 20 pcs elektronik)* - diskon dari total harga *(dari 20 pcs elektronik)*, sehingga kode/syntaxnya sebagai berikut: ( tanda (*) berarti perkalian, sedangkan (-) berarti pengurangan )"
      ],
      "metadata": {
        "id": "0B00FFPI_mEB"
      }
    },
    {
      "cell_type": "code",
      "source": [
        "#Code goes here\n",
        "price = 12000\n",
        "quantity_sold = 20\n",
        "discount = 10/100\n",
        "pay = (price*quantity_sold) - ((price*quantity_sold)*discount)\n",
        "pay"
      ],
      "metadata": {
        "id": "90T0A2HvbcCK",
        "colab": {
          "base_uri": "https://localhost:8080/"
        },
        "outputId": "008382e5-74d3-4f84-96e7-41d12d4a4419"
      },
      "execution_count": null,
      "outputs": [
        {
          "output_type": "execute_result",
          "data": {
            "text/plain": [
              "216000.0"
            ]
          },
          "metadata": {},
          "execution_count": 31
        }
      ]
    },
    {
      "cell_type": "markdown",
      "source": [
        "# **List Data Operation**"
      ],
      "metadata": {
        "id": "G-HHsg4la6mJ"
      }
    },
    {
      "cell_type": "markdown",
      "source": [
        "5. > **Follow the instructions in the code blocks**\n",
        "\n",
        "\n",
        "\n"
      ],
      "metadata": {
        "id": "NdoSjVZ4Zbqg"
      }
    },
    {
      "cell_type": "markdown",
      "source": [
        "Variabel yang dibuat yaitu `countries `dengan list berisi 7 negara di dunia yang terdiri atas **Indonesia, Malaysia, Kamboja, Laos, Singapura, Filipina, dan Thailand**. Setiap negara diberi tanda '...' atau \"...\" karena berupa string dan antar negara dipisahkan dengan tanda koma (,) sebagai berikut:"
      ],
      "metadata": {
        "id": "i6mIqTL8DDZk"
      }
    },
    {
      "cell_type": "code",
      "source": [
        "# Create list of countries in the world (total 7 countries) (Points : 5)\n",
        "\n",
        "#Code goes here\n",
        "countries=['Indonesia','Malaysia','Kamboja','Laos','Singapura','Filipina','Thailand']\n",
        "print(countries)"
      ],
      "metadata": {
        "id": "xsFxlZGLaQ7y",
        "colab": {
          "base_uri": "https://localhost:8080/"
        },
        "outputId": "5c94e113-0617-44a8-e9f3-e103562ee0a9"
      },
      "execution_count": null,
      "outputs": [
        {
          "output_type": "stream",
          "name": "stdout",
          "text": [
            "['Indonesia', 'Malaysia', 'Kamboja', 'Laos', 'Singapura', 'Filipina', 'Thailand']\n"
          ]
        }
      ]
    },
    {
      "cell_type": "markdown",
      "source": [
        "Berikut ini adalah syntax untuk mengambil *4 negara pertama* pada list countries dimana range yang digunakan dari index ke-0 hingga index ke-3 sehingga bisa ditulis [0:4] atau [:4], index ke-4 tidak akan muncul karena yang terbaca/muncul merupakan indeks yang kurang dari 4 yaitu 0 hingga 3."
      ],
      "metadata": {
        "id": "sB3gKtwjzWPt"
      }
    },
    {
      "cell_type": "code",
      "source": [
        "# Get 4 countries from the first index of the list (Points : 5)\n",
        "\n",
        "#Code goes here\n",
        "countries[:4]"
      ],
      "metadata": {
        "id": "6Se125DabJ6R",
        "colab": {
          "base_uri": "https://localhost:8080/"
        },
        "outputId": "8c488795-df35-4b84-d69c-7caae2bd80ab"
      },
      "execution_count": null,
      "outputs": [
        {
          "output_type": "execute_result",
          "data": {
            "text/plain": [
              "['Indonesia', 'Malaysia', 'Kamboja', 'Laos']"
            ]
          },
          "metadata": {},
          "execution_count": 34
        }
      ]
    },
    {
      "cell_type": "code",
      "source": [
        "countries[0:4]"
      ],
      "metadata": {
        "colab": {
          "base_uri": "https://localhost:8080/"
        },
        "id": "YeHWfwODqpqi",
        "outputId": "4297c0be-723d-4d3a-854e-5d9a0144cf52"
      },
      "execution_count": null,
      "outputs": [
        {
          "output_type": "execute_result",
          "data": {
            "text/plain": [
              "['Indonesia', 'Malaysia', 'Kamboja', 'Laos']"
            ]
          },
          "metadata": {},
          "execution_count": 35
        }
      ]
    },
    {
      "cell_type": "markdown",
      "source": [
        "Berikut syntax untuk menambahkan negara **Brunei Darussalam** kedalam list countries yang sudah dibuat sebelumnya dimana negara **Brunei Darussalam** didefinisikan ke dalam variabel ***new_countries*** kemudian dengan memanfaatkan function **`appand`, variabel `new_countries` yang berisi Brunei Darussalam akan ditambahkan ke dalam list countries."
      ],
      "metadata": {
        "id": "zAbf_-fI0uAq"
      }
    },
    {
      "cell_type": "code",
      "source": [
        "# Append new country to the list (Points : 5)\n",
        "\n",
        "#Code goes here\n",
        "new_countries='Brunei Darussalam'\n",
        "countries.append(new_countries)\n",
        "countries"
      ],
      "metadata": {
        "id": "FSU5QfExbKAh",
        "colab": {
          "base_uri": "https://localhost:8080/"
        },
        "outputId": "4800c826-58c5-4897-9907-30c563403363"
      },
      "execution_count": null,
      "outputs": [
        {
          "output_type": "execute_result",
          "data": {
            "text/plain": [
              "['Indonesia',\n",
              " 'Malaysia',\n",
              " 'Kamboja',\n",
              " 'Laos',\n",
              " 'Singapura',\n",
              " 'Filipina',\n",
              " 'Thailand',\n",
              " 'Brunei Darussalam']"
            ]
          },
          "metadata": {},
          "execution_count": 36
        }
      ]
    },
    {
      "cell_type": "markdown",
      "source": [
        "> Penambahan negara baru (new country) juga dapat dilakukan dengan memasukkan secara langsung nama negara yang ingin ditambahkan ke dalam function seperti berikut:\n",
        "`countries.append('Brunei Darussalam')`"
      ],
      "metadata": {
        "id": "s6MQWTSm7WB3"
      }
    },
    {
      "cell_type": "markdown",
      "source": [
        "Untuk menghapus salah satu nama country dalam list `countries`, dapat menggunakan function remove dengan syntax : `countries.remove('nama country yang ingin dihapus')` yang dalam hal ini misal adalah negara 'Laos'"
      ],
      "metadata": {
        "id": "8PA0RnTf1hYi"
      }
    },
    {
      "cell_type": "code",
      "source": [
        "# Drop one country from the list (Points : 5)\n",
        "\n",
        "#Code goes here\n",
        "countries.remove('Laos')\n",
        "countries"
      ],
      "metadata": {
        "id": "DlvXbKlnbKGR",
        "colab": {
          "base_uri": "https://localhost:8080/"
        },
        "outputId": "50046d57-9524-49ce-9ff3-4c4994418206"
      },
      "execution_count": null,
      "outputs": [
        {
          "output_type": "execute_result",
          "data": {
            "text/plain": [
              "['Indonesia',\n",
              " 'Malaysia',\n",
              " 'Kamboja',\n",
              " 'Singapura',\n",
              " 'Filipina',\n",
              " 'Thailand',\n",
              " 'Brunei Darussalam']"
            ]
          },
          "metadata": {},
          "execution_count": 39
        }
      ]
    },
    {
      "cell_type": "markdown",
      "source": [
        "Untuk mendapatkan nama country pada index terakhir, dapat ditulis dengan index **[-1]** karena jika index dibaca dari belakang maka pembacaan index bukan dari 0 melainkan dari -1"
      ],
      "metadata": {
        "id": "pMBxUJz415Tj"
      }
    },
    {
      "cell_type": "code",
      "source": [
        "# Get country in the last index (Points : 5)\n",
        "\n",
        "#Code goes here\n",
        "countries[-1]"
      ],
      "metadata": {
        "id": "F1NJ6JCQbKJ7",
        "colab": {
          "base_uri": "https://localhost:8080/",
          "height": 35
        },
        "outputId": "2809d2ca-87b8-4f1a-aa88-eade364d51ab"
      },
      "execution_count": null,
      "outputs": [
        {
          "output_type": "execute_result",
          "data": {
            "text/plain": [
              "'Brunei Darussalam'"
            ],
            "application/vnd.google.colaboratory.intrinsic+json": {
              "type": "string"
            }
          },
          "metadata": {},
          "execution_count": 40
        }
      ]
    },
    {
      "cell_type": "markdown",
      "source": [
        "# **Dictionary Data Operation**"
      ],
      "metadata": {
        "id": "Kfkq-SmIdJR6"
      }
    },
    {
      "cell_type": "markdown",
      "source": [
        "6. >  **Follow the instructions below**\n",
        "\n",
        "\n",
        "\n"
      ],
      "metadata": {
        "id": "WyJ8CJzdeMiS"
      }
    },
    {
      "cell_type": "code",
      "source": [
        "# Given the dictionary below\n",
        "\n",
        "customer={\n",
        "    \"name\":['Dio','Eka','Wayu','Riki'],\n",
        "    \"age\":[20,19,24,39],\n",
        "    \"gender\":[1,0,0,1],\n",
        "    \"membership\":['Platinum','Gold','Silver','Silver']\n",
        "}"
      ],
      "metadata": {
        "id": "fVHYIKLwdMfq"
      },
      "execution_count": null,
      "outputs": []
    },
    {
      "cell_type": "code",
      "source": [
        "customer"
      ],
      "metadata": {
        "colab": {
          "base_uri": "https://localhost:8080/"
        },
        "id": "pE8QJfLVyZ9W",
        "outputId": "94ed6b6b-0ec8-4d7b-c7ca-bb487ed935e3"
      },
      "execution_count": null,
      "outputs": [
        {
          "output_type": "execute_result",
          "data": {
            "text/plain": [
              "{'name': ['Dio', 'Eka', 'Wayu', 'Riki'],\n",
              " 'age': [20, 19, 24, 39],\n",
              " 'gender': [1, 0, 0, 1],\n",
              " 'membership': ['Platinum', 'Gold', 'Silver', 'Silver']}"
            ]
          },
          "metadata": {},
          "execution_count": 42
        }
      ]
    },
    {
      "cell_type": "markdown",
      "source": [
        "Untuk mencetak (print) seluruh keys yang digunakan dalam dictionary customer, dapat digunakan cara sebagai berikut.\n",
        "- **cara pertama** adalah dengan menggunakan syntax:  `customer.keys()`\n",
        "- **cara kedua** adalah dengan function `for`, dimana keys dalam dictionary customer didefinisikan sebagai y"
      ],
      "metadata": {
        "id": "1H_cqXNZ2STf"
      }
    },
    {
      "cell_type": "code",
      "source": [
        "# Print all keys in customer (Points : 5)\n",
        "\n",
        "#Code goes here\n",
        "customer.keys()"
      ],
      "metadata": {
        "id": "LpRVtz4_eJK5",
        "colab": {
          "base_uri": "https://localhost:8080/"
        },
        "outputId": "17bbc19b-bc8d-4d79-a876-7999308f3a87"
      },
      "execution_count": null,
      "outputs": [
        {
          "output_type": "execute_result",
          "data": {
            "text/plain": [
              "dict_keys(['name', 'age', 'gender', 'membership'])"
            ]
          },
          "metadata": {},
          "execution_count": 43
        }
      ]
    },
    {
      "cell_type": "code",
      "source": [
        "for y in customer:\n",
        "  print(y)"
      ],
      "metadata": {
        "colab": {
          "base_uri": "https://localhost:8080/"
        },
        "id": "8dVeOJQ-xMWm",
        "outputId": "fc57d21a-8703-46d2-f4c3-12348db8deb0"
      },
      "execution_count": null,
      "outputs": [
        {
          "output_type": "stream",
          "name": "stdout",
          "text": [
            "name\n",
            "age\n",
            "gender\n",
            "membership\n"
          ]
        }
      ]
    },
    {
      "cell_type": "markdown",
      "source": [
        "Untuk mencetak (print) seluruh nama customer dapat menggunakan syntax:\n",
        "** nama dictionary [ 'key' ]**\n",
        "dimana dalam hal ini seluruh nama customer berada dalam key **'name'** sehingga kode/syntaxnya sebagai berikut"
      ],
      "metadata": {
        "id": "PJIe9E223dl8"
      }
    },
    {
      "cell_type": "code",
      "source": [
        "# Print all customer names (Points : 5)\n",
        "\n",
        "#Code goes here\n",
        "customer['name']"
      ],
      "metadata": {
        "id": "QiEMM94FeYrz",
        "colab": {
          "base_uri": "https://localhost:8080/"
        },
        "outputId": "ef4185f4-b8c8-4727-aa88-410a13f871a7"
      },
      "execution_count": null,
      "outputs": [
        {
          "output_type": "execute_result",
          "data": {
            "text/plain": [
              "['Dio', 'Eka', 'Wayu', 'Riki']"
            ]
          },
          "metadata": {},
          "execution_count": 45
        }
      ]
    },
    {
      "cell_type": "markdown",
      "source": [
        "Untuk mencetak nama customer pertama dapat menggunakan syntax:\n",
        "**dictionary [ 'key' ] [ index value ]**\n",
        "dalam hal ini nama customer pertama berada dalam key **'name'** dan memiliki index **[0]**"
      ],
      "metadata": {
        "id": "F_7D_VSb4bCm"
      }
    },
    {
      "cell_type": "code",
      "source": [
        "# Print the first customer name (Points : 5)\n",
        "\n",
        "#Code goes here\n",
        "customer['name'][0]"
      ],
      "metadata": {
        "id": "P2SeErUGgQ-D",
        "colab": {
          "base_uri": "https://localhost:8080/",
          "height": 35
        },
        "outputId": "baf21e44-032c-4c64-e84f-9e537d7a1c70"
      },
      "execution_count": null,
      "outputs": [
        {
          "output_type": "execute_result",
          "data": {
            "text/plain": [
              "'Dio'"
            ],
            "application/vnd.google.colaboratory.intrinsic+json": {
              "type": "string"
            }
          },
          "metadata": {},
          "execution_count": 46
        }
      ]
    },
    {
      "cell_type": "markdown",
      "source": [
        "Untuk drop/menghilangkan key 'age' pada dictionary customer dapat menggunakan:\n",
        "`del dictionary['key yang ingin dihilangkan']`\n",
        "Dalam hal ini key yang ingin di hilangkan adalah **'age'**\n",
        "Sehingga digunakan syntax seperti berikut: (del artinya men-delete atau menghapus key age pada dictionary customer)"
      ],
      "metadata": {
        "id": "isYeGDH548pr"
      }
    },
    {
      "cell_type": "code",
      "source": [
        "# Drop \"age\" key from the dictionary (Points : 5)\n",
        "\n",
        "#Code goes here\n",
        "del customer['age']\n",
        "print(customer)"
      ],
      "metadata": {
        "id": "c3PlmHxueiPy",
        "colab": {
          "base_uri": "https://localhost:8080/"
        },
        "outputId": "8204f53d-14ac-46cb-db74-556b8594c8bc"
      },
      "execution_count": null,
      "outputs": [
        {
          "output_type": "stream",
          "name": "stdout",
          "text": [
            "{'name': ['Dio', 'Eka', 'Wayu', 'Riki'], 'gender': [1, 0, 0, 1], 'membership': ['Platinum', 'Gold', 'Silver', 'Silver']}\n"
          ]
        }
      ]
    },
    {
      "cell_type": "code",
      "source": [
        "customer"
      ],
      "metadata": {
        "colab": {
          "base_uri": "https://localhost:8080/"
        },
        "id": "ijm2utpCvJWI",
        "outputId": "0fdf6b3a-139d-4c28-9c02-f00b777e4ab6"
      },
      "execution_count": null,
      "outputs": [
        {
          "output_type": "execute_result",
          "data": {
            "text/plain": [
              "{'name': ['Dio', 'Eka', 'Wayu', 'Riki'],\n",
              " 'gender': [1, 0, 0, 1],\n",
              " 'membership': ['Platinum', 'Gold', 'Silver', 'Silver']}"
            ]
          },
          "metadata": {},
          "execution_count": 48
        }
      ]
    },
    {
      "cell_type": "markdown",
      "source": [
        "Untuk mengganti gender customer dari kode 1 dan 0 menjadi male dan female dapat menggunakan cara sebagai berikut:\n",
        "- **cara pertama** yaitu secara manual dengan memanfaatkan function update dengan syntax:\n",
        "dictionary.update( { 'key' : [values] } ) yaitu menjadi `customer.update(**{'gender':['Male','Female','Female','Male']})**`\n",
        "\n",
        "- **cara kedua** yaitu dengan menggunakan for loops. Dimana pada key 'gender', jika value = 1 akan diganti dengan Male sedangkan jika value = 0 akan diganti dengan female\n",
        "- For n in range: artinya iterasi/ perulangan dilakukan dalam rentang panjang values pada key gender\n",
        "\n"
      ],
      "metadata": {
        "id": "LCWOe_uk5lxR"
      }
    },
    {
      "cell_type": "code",
      "source": [
        "# Replace customer gender list value (Points : 20)\n",
        "# gender 1 => Male\n",
        "# gender 0 => Female"
      ],
      "metadata": {
        "id": "FgXDh9mIea9x"
      },
      "execution_count": null,
      "outputs": []
    },
    {
      "cell_type": "code",
      "source": [
        "#Code goes here\n",
        "for n in range(len(customer['gender'])):\n",
        "    if customer['gender'][n] == 1:\n",
        "        customer['gender'][n] = \"Male\"\n",
        "    elif customer['gender'][n] == 0:\n",
        "        customer['gender'][n] = \"Female\"\n",
        "print(customer['gender'])"
      ],
      "metadata": {
        "colab": {
          "base_uri": "https://localhost:8080/"
        },
        "id": "r_PJr05HyRmP",
        "outputId": "cffdceaf-b9dc-47ea-fbe6-8e0494988ac5"
      },
      "execution_count": null,
      "outputs": [
        {
          "output_type": "stream",
          "name": "stdout",
          "text": [
            "['Male', 'Female', 'Female', 'Male']\n"
          ]
        }
      ]
    },
    {
      "cell_type": "markdown",
      "source": [
        "Sehingga gender pada dictionary customer menjadi sebagai berikut"
      ],
      "metadata": {
        "id": "qYPbguUatpva"
      }
    },
    {
      "cell_type": "code",
      "source": [
        "customer"
      ],
      "metadata": {
        "colab": {
          "base_uri": "https://localhost:8080/"
        },
        "id": "mNxTc_Vu3bTx",
        "outputId": "4105d774-1273-4c4b-fdec-019968bf43e2"
      },
      "execution_count": null,
      "outputs": [
        {
          "output_type": "execute_result",
          "data": {
            "text/plain": [
              "{'name': ['Dio', 'Eka', 'Wayu', 'Riki'],\n",
              " 'gender': ['Male', 'Female', 'Female', 'Male'],\n",
              " 'membership': ['Platinum', 'Gold', 'Silver', 'Silver']}"
            ]
          },
          "metadata": {},
          "execution_count": 51
        }
      ]
    }
  ]
}